{
  "nbformat": 4,
  "nbformat_minor": 0,
  "metadata": {
    "colab": {
      "provenance": []
    },
    "kernelspec": {
      "name": "python3",
      "display_name": "Python 3"
    },
    "language_info": {
      "name": "python"
    }
  },
  "cells": [
    {
      "cell_type": "markdown",
      "source": [
        "1. Faça um programa que simule um televisor criando-o como um objeto.\n",
        "\n",
        "O usuário deve ser capaz de  informar o número do canal e aumentar ou diminuir o volume. Certifique-se de que o número do  canal e o nível do volume permanecem dentro de faixas válidas."
      ],
      "metadata": {
        "id": "WO2p785Ie1vZ"
      }
    },
    {
      "cell_type": "code",
      "execution_count": null,
      "metadata": {
        "colab": {
          "base_uri": "https://localhost:8080/"
        },
        "id": "FDZjWOwyecGt",
        "outputId": "dbe9a0f6-dd97-4819-e810-449dd5bea9a5"
      },
      "outputs": [
        {
          "output_type": "stream",
          "name": "stdout",
          "text": [
            "Canal alterado para: 25\n",
            "Volume atual: 11\n",
            "Volume atual: 10\n"
          ]
        }
      ],
      "source": [
        "from IPython.display import display, Markdown\n",
        "\n",
        "# Definindo a classe Televisor\n",
        "class Televisor:\n",
        "    def __init__(self, canal=1, volume=10):\n",
        "        # Inicializando o canal e o volume dentro de valores padrões\n",
        "        self.canal = canal\n",
        "        self.volume = volume\n",
        "\n",
        "    def mudar_canal(self, novo_canal):\n",
        "        # Canal permitido entre 1 e 100\n",
        "        if 1 <= novo_canal <= 100:\n",
        "            self.canal = novo_canal\n",
        "            print(f\"Canal alterado para: {self.canal}\")\n",
        "        else:\n",
        "            print(\"Canal inválido. Selecione um canal entre 1 e 100.\")\n",
        "\n",
        "    def aumentar_volume(self):\n",
        "        # Volume permitido entre 0 e 100\n",
        "        if self.volume < 100:\n",
        "            self.volume += 1\n",
        "        print(f\"Volume atual: {self.volume}\")\n",
        "\n",
        "    def diminuir_volume(self):\n",
        "        if self.volume > 0:\n",
        "            self.volume -= 1\n",
        "        print(f\"Volume atual: {self.volume}\")\n",
        "\n",
        "# Simulação do uso do televisor\n",
        "tv = Televisor()  # Instanciando um televisor\n",
        "tv.mudar_canal(25)  # Muda para o canal 25\n",
        "tv.aumentar_volume()  # Aumenta o volume em 1\n",
        "tv.diminuir_volume()  # Diminui o volume em 1\n"
      ]
    },
    {
      "cell_type": "markdown",
      "source": [
        "2. Implemente a classe Funcionário.\n",
        "\n",
        "Um empregado tem um nome (um string) e um salário(um double).  Escreva um construtor com dois parâmetros (nome e salário) e métodos para devolver nome e  salário. Escreva um pequeno programa que teste sua classe."
      ],
      "metadata": {
        "id": "Hd70VqwcfKp6"
      }
    },
    {
      "cell_type": "code",
      "source": [
        "# Definindo a classe Funcionário\n",
        "class Funcionario:\n",
        "    def __init__(self, nome, salario):\n",
        "        # Inicializando com nome e salário\n",
        "        self.nome = nome\n",
        "        self.salario = salario\n",
        "\n",
        "    def get_nome(self):\n",
        "        # Método para retornar o nome do funcionário\n",
        "        return self.nome\n",
        "\n",
        "    def get_salario(self):\n",
        "        # Método para retornar o salário do funcionário\n",
        "        return self.salario\n",
        "\n",
        "# Programa de teste para a classe Funcionario\n",
        "func1 = Funcionario(\"Maria Silva\", 3500.00)  # Criando um funcionário\n",
        "func2 = Funcionario(\"João Pereira\", 4500.00)  # Criando outro funcionário\n",
        "\n",
        "# Exibindo as informações dos funcionários\n",
        "print(f\"Funcionário 1: Nome: {func1.get_nome()}, Salário: R$ {func1.get_salario()}\")\n",
        "print(f\"Funcionário 2: Nome: {func2.get_nome()}, Salário: R$ {func2.get_salario()}\")\n"
      ],
      "metadata": {
        "colab": {
          "base_uri": "https://localhost:8080/"
        },
        "id": "YXXCUJQifRrE",
        "outputId": "b6f23cd4-be9d-46cb-9ab2-053382847860"
      },
      "execution_count": null,
      "outputs": [
        {
          "output_type": "stream",
          "name": "stdout",
          "text": [
            "Funcionário 1: Nome: Maria Silva, Salário: R$ 3500.0\n",
            "Funcionário 2: Nome: João Pereira, Salário: R$ 4500.0\n"
          ]
        }
      ]
    },
    {
      "cell_type": "markdown",
      "source": [
        "3. Faça um programa completo utilizando classes e métodos que:\n",
        "\n",
        "a. Possua uma classe chamada bombaCombustível, com no mínimo esses atributos:\n",
        "\n",
        "i. tipoCombustivel.\n",
        "\n",
        "ii. valorLitro\n",
        "\n",
        "iii. quantidadeCombustivel\n",
        "\n",
        "b. Possua no mínimo esses métodos:\n",
        "\n",
        "i. abastecerPorValor( ) – método onde é informado o valor a ser abastecido e mostra a  quantidade de litros que foi colocada no veículo\n",
        "\n",
        "ii. abastecerPorLitro( ) – método onde é informado a quantidade em litros de combustível  e mostra o valor a ser pago pelo cliente.\n",
        "\n",
        "iii. alterarValor( ) – altera o valor do litro do combustível.\n",
        "\n",
        "iv. alterarCombustivel( ) – altera o tipo do combustível.\n",
        "\n",
        "v. alterarQuantidadeCombustivel( ) – altera a quantidade de combustível restante na  bomba.\n",
        "\n",
        "OBS: Sempre que acontecer um abastecimento é necessário atualizar a quantidade de  combustível total na bomba."
      ],
      "metadata": {
        "id": "KMcU2NqSgEQu"
      }
    },
    {
      "cell_type": "code",
      "source": [
        "# 3.\n",
        "\n",
        "# Definindo a classe BombaCombustível\n",
        "class BombaCombustivel:\n",
        "    def __init__(self, tipo_combustivel, valor_litro, quantidade_combustivel):\n",
        "        self.tipo_combustivel = tipo_combustivel\n",
        "        self.valor_litro = valor_litro\n",
        "        self.quantidade_combustivel = quantidade_combustivel\n",
        "\n",
        "    def abastecerPorValor(self, valor):\n",
        "        litros_abastecidos = valor / self.valor_litro\n",
        "        if litros_abastecidos > self.quantidade_combustivel:\n",
        "            print(\"Quantidade insuficiente de combustível na bomba.\")\n",
        "            return\n",
        "        self.quantidade_combustivel -= litros_abastecidos\n",
        "        print(f\"Abastecido {litros_abastecidos:.2f} litros de {self.tipo_combustivel}.\")\n",
        "\n",
        "    def abastecerPorLitro(self, litros):\n",
        "        valor_total = litros * self.valor_litro\n",
        "        if litros > self.quantidade_combustivel:\n",
        "            print(\"Quantidade insuficiente de combustível na bomba.\")\n",
        "            return\n",
        "        self.quantidade_combustivel -= litros\n",
        "        print(f\"O valor total a ser pago é: R$ {valor_total:.2f}\")\n",
        "\n",
        "    def alterarValor(self, novo_valor_litro):\n",
        "        self.valor_litro = novo_valor_litro\n",
        "        print(f\"Novo valor por litro de {self.tipo_combustivel} é R$ {self.valor_litro:.2f}\")\n",
        "\n",
        "    def alterarCombustivel(self, novo_tipo_combustivel):\n",
        "        self.tipo_combustivel = novo_tipo_combustivel\n",
        "        print(f\"Tipo de combustível alterado para: {self.tipo_combustivel}\")\n",
        "\n",
        "    def alterarQuantidadeCombustivel(self, nova_quantidade):\n",
        "        self.quantidade_combustivel = nova_quantidade\n",
        "        print(f\"Quantidade de combustível na bomba alterada para: {self.quantidade_combustivel} litros\")\n",
        "\n",
        "# Programa de teste para a classe BombaCombustivel\n",
        "bomba = BombaCombustivel(\"Gasolina\", 5.59, 500.0)  # Criando uma bomba de combustível\n",
        "\n",
        "# Testando os métodos\n",
        "bomba.abastecerPorValor(100.00)  # Abastece por valor\n",
        "bomba.abastecerPorLitro(20)  # Abastece por quantidade de litros\n",
        "bomba.alterarValor(6.10)  # Altera o valor do litro\n",
        "bomba.alterarCombustivel(\"Etanol\")  # Altera o tipo de combustível\n",
        "bomba.alterarQuantidadeCombustivel(300.0)  # Altera a quantidade de combustível na bomba"
      ],
      "metadata": {
        "colab": {
          "base_uri": "https://localhost:8080/"
        },
        "id": "3D8axIUUgJn2",
        "outputId": "0e3cc596-defa-4375-84e3-cccd8503fe3b"
      },
      "execution_count": null,
      "outputs": [
        {
          "output_type": "stream",
          "name": "stdout",
          "text": [
            "Abastecido 17.89 litros de Gasolina.\n",
            "O valor total a ser pago é: R$ 111.80\n",
            "Novo valor por litro de Gasolina é R$ 6.10\n",
            "Tipo de combustível alterado para: Etanol\n",
            "Quantidade de combustível na bomba alterada para: 300.0 litros\n"
          ]
        }
      ]
    },
    {
      "cell_type": "markdown",
      "source": [
        "4. Crie uma classe que modele uma pessoa:\n",
        "\n",
        "Atributos: nome, idade, peso e altura\n",
        "\n",
        "Métodos: Envelhercer, engordar, emagrecer, crescer.\n",
        "\n",
        "Obs: Por padrão, a cada ano que nossa pessoa envelhece, sendo a idade dela menor que 21 anos,  ela deve crescer 0,5 cm.\n",
        "\n",
        "Ao final crie um código que teste os métodos da classe."
      ],
      "metadata": {
        "id": "PACSkb1KnWK3"
      }
    },
    {
      "cell_type": "code",
      "source": [
        "# Definindo a classe Pessoa\n",
        "class Pessoa:\n",
        "    def __init__(self, nome, idade, peso, altura):\n",
        "        self.nome = nome\n",
        "        self.idade = idade\n",
        "        self.peso = peso\n",
        "        self.altura = altura\n",
        "\n",
        "    def envelhecer(self, anos):\n",
        "        for _ in range(anos):\n",
        "            self.idade += 1\n",
        "            if self.idade < 21:\n",
        "                self.crescer(0.5)  # Cresce 0.5 cm por ano até os 21 anos\n",
        "\n",
        "    def engordar(self, peso_ganho):\n",
        "        self.peso += peso_ganho\n",
        "        print(f\"{self.nome} ganhou {peso_ganho}kg. Peso atual: {self.peso}kg.\")\n",
        "\n",
        "    def emagrecer(self, peso_perdido):\n",
        "        self.peso -= peso_perdido\n",
        "        print(f\"{self.nome} perdeu {peso_perdido}kg. Peso atual: {self.peso}kg.\")\n",
        "\n",
        "    def crescer(self, centimetros):\n",
        "        self.altura += centimetros / 100  # Convertendo centímetros para metros\n",
        "        print(f\"{self.nome} cresceu {centimetros}cm. Altura atual: {self.altura:.2f}m.\")\n",
        "\n",
        "# Programa de teste para a classe Pessoa\n",
        "pessoa = Pessoa(\"Carlos\", 18, 70, 1.75)  # Criando uma pessoa\n",
        "\n",
        "# Testando os métodos\n",
        "pessoa.envelhecer(4)  # Carlos envelhece 4 anos (de 18 para 22)\n",
        "pessoa.engordar(5)  # Carlos ganha 5kg\n",
        "pessoa.emagrecer(2)  # Carlos perde 2kg\n",
        "pessoa.crescer(3)  # Carlos cresce 3cm manualmente"
      ],
      "metadata": {
        "colab": {
          "base_uri": "https://localhost:8080/"
        },
        "id": "t6ydL5Sxn4Uu",
        "outputId": "ddb1eb98-7fde-47ac-a371-79506d4ec0d4"
      },
      "execution_count": null,
      "outputs": [
        {
          "output_type": "stream",
          "name": "stdout",
          "text": [
            "Carlos cresceu 0.5cm. Altura atual: 1.75m.\n",
            "Carlos cresceu 0.5cm. Altura atual: 1.76m.\n",
            "Carlos ganhou 5kg. Peso atual: 75kg.\n",
            "Carlos perdeu 2kg. Peso atual: 73kg.\n",
            "Carlos cresceu 3cm. Altura atual: 1.79m.\n"
          ]
        }
      ]
    },
    {
      "cell_type": "markdown",
      "source": [
        "5. Crie uma classe contaFacebook que contém os atributos nome, idade e listaDeAmigos (lista de string).\n",
        "\n",
        "A classe deve conter o método adicionarAmigo, que recebe como parâmetro uma string e adiciona em  listaDeAmigos. A classe também deve conter o método “conhecePessoa”, que recebe como parâmetro  uma string contendo o nome de uma pessoa e retorna “Sim” caso a pessoa esteja na lista de amigos.  Caso contrário retorna “Nao”. Ao final, crie um objeto da classe contaFacebook, adicione alguns amigos e  depois use o método “conhecePessoa”."
      ],
      "metadata": {
        "id": "HClvV_RcoGsr"
      }
    },
    {
      "cell_type": "code",
      "source": [
        "# Definindo a classe ContaFacebook\n",
        "class ContaFacebook:\n",
        "    def __init__(self, nome, idade):\n",
        "        self.nome = nome\n",
        "        self.idade = idade\n",
        "        self.lista_de_amigos = []\n",
        "\n",
        "    def adicionar_amigo(self, nome_amigo):\n",
        "        # Adiciona um amigo à lista\n",
        "        self.lista_de_amigos.append(nome_amigo)\n",
        "        print(f\"{nome_amigo} foi adicionado à lista de amigos de {self.nome}.\")\n",
        "\n",
        "    def conhece_pessoa(self, nome_pessoa):\n",
        "        # Verifica se a pessoa está na lista de amigos\n",
        "        if nome_pessoa in self.lista_de_amigos:\n",
        "            return \"Sim\"\n",
        "        else:\n",
        "            return \"Nao\"\n",
        "\n",
        "# Criando um objeto da classe ContaFacebook\n",
        "conta_facebook = ContaFacebook(\"Ana\", 25)\n",
        "\n",
        "# Adicionando alguns amigos\n",
        "conta_facebook.adicionar_amigo(\"João\")\n",
        "conta_facebook.adicionar_amigo(\"Maria\")\n",
        "conta_facebook.adicionar_amigo(\"Pedro\")\n",
        "\n",
        "# Verificando se Ana conhece João e alguém que não está na lista\n",
        "resultado1 = conta_facebook.conhece_pessoa(\"João\")  # Deve retornar \"Sim\"\n",
        "resultado2 = conta_facebook.conhece_pessoa(\"Lucas\")  # Deve retornar \"Nao\"\n",
        "\n",
        "# Exibindo os resultados\n",
        "print(f\"Ana conhece João? {resultado1}\")\n",
        "print(f\"Ana conhece Lucas? {resultado2}\")\n"
      ],
      "metadata": {
        "colab": {
          "base_uri": "https://localhost:8080/"
        },
        "id": "I3hPwwwPohEU",
        "outputId": "4b6e3b89-6b6b-423f-b018-00abeaabf691"
      },
      "execution_count": null,
      "outputs": [
        {
          "output_type": "stream",
          "name": "stdout",
          "text": [
            "João foi adicionado à lista de amigos de Ana.\n",
            "Maria foi adicionado à lista de amigos de Ana.\n",
            "Pedro foi adicionado à lista de amigos de Ana.\n",
            "Ana conhece João? Sim\n",
            "Ana conhece Lucas? Nao\n"
          ]
        }
      ]
    },
    {
      "cell_type": "markdown",
      "source": [
        "6. Sobre orientação de objetos, em python, implemente as seguintes classes:\n",
        "\n",
        "Implemente uma classe ValeEletronico, que possui informações de identificador do cartão,  nome do usuário, cpf e saldo. A classe deve possuir atributos privados e métodos de  carregar cartão e verificarSaldo. O saldo não pode ser negativo. Ao final crie um programa  para testar a classe, realizando carga e verificação de saldo."
      ],
      "metadata": {
        "id": "JVQzY7fvo0P2"
      }
    },
    {
      "cell_type": "code",
      "source": [
        "# Definindo a classe ValeEletronico com atributos privados\n",
        "class ValeEletronico:\n",
        "    def __init__(self, identificador, nome_usuario, cpf, saldo=0.0):\n",
        "        self.__identificador = identificador\n",
        "        self.__nome_usuario = nome_usuario\n",
        "        self.__cpf = cpf\n",
        "        self.__saldo = saldo\n",
        "\n",
        "    def carregar_cartao(self, valor):\n",
        "        if valor > 0:\n",
        "            self.__saldo += valor\n",
        "            print(f\"R$ {valor:.2f} foram carregados no cartão.\")\n",
        "        else:\n",
        "            print(\"Valor inválido para carga.\")\n",
        "\n",
        "    def verificar_saldo(self):\n",
        "        print(f\"Saldo atual: R$ {self.__saldo:.2f}\")\n",
        "        return self.__saldo\n",
        "\n",
        "    # Métodos para acessar os atributos privados\n",
        "    def get_identificador(self):\n",
        "        return self.__identificador\n",
        "\n",
        "    def get_nome_usuario(self):\n",
        "        return self.__nome_usuario\n",
        "\n",
        "    def get_cpf(self):\n",
        "        return self.__cpf\n",
        "\n",
        "# Programa de teste para a classe ValeEletronico\n",
        "vale = ValeEletronico(\"123456789\", \"Carlos Souza\", \"123.456.789-00\", 100.0)  # Criando um vale eletrônico com saldo inicial\n",
        "\n",
        "# Testando os métodos\n",
        "vale.verificar_saldo()  # Verifica o saldo inicial\n",
        "vale.carregar_cartao(50.0)  # Carrega o cartão com R$ 50,00\n",
        "vale.verificar_saldo()  # Verifica o saldo após a carga\n",
        "vale.carregar_cartao(-10.0)  # Testa carga inválida\n",
        "vale.verificar_saldo()  # Verifica o saldo final\n",
        "\n",
        "# Exibindo a implementação e o teste\n",
        "from IPython.display import display, Markdown\n",
        "display(Markdown(\"\"\"\n",
        "### Exemplo de Teste da Classe ValeEletronico\n",
        "\n",
        "Carlos Souza foi criado com os seguintes atributos:\n",
        "- Identificador: 123456789\n",
        "- CPF: 123.456.789-00\n",
        "- Saldo inicial: R$ 100,00\n",
        "\n",
        "Testamos os seguintes métodos:\n",
        "- O método `verificar_saldo()` mostrou que o saldo inicial era R$ 100,00.\n",
        "- O método `carregar_cartao(50.0)` adicionou R$ 50,00, totalizando R$ 150,00.\n",
        "- A tentativa de carregar com um valor negativo foi rejeitada.\n",
        "\"\"\"))\n"
      ],
      "metadata": {
        "id": "0Kfoc_Kuo0lu"
      },
      "execution_count": null,
      "outputs": []
    },
    {
      "cell_type": "markdown",
      "source": [
        "7. Escreva um programa completo para jogar o jogo da velha. Para tanto crie uma classe JogoDaVelha:\n",
        "\n",
        "∙ a classe deve conter como dados privados um array bidimensional 3x3 para representar a  grade do jogo\n",
        "\n",
        "∙ crie uma enumeração para representar as possibilidades de ocupação de uma casa na  grade (vazia, jogador 1 ou jogador 2)\n",
        "\n",
        "∙ o construtor deve inicializar a grade como vazia\n",
        "\n",
        "∙ forneça um método para exibir a grade\n",
        "\n",
        "∙ permita dois jogadores humanos\n",
        "\n",
        "∙ forneça um método para jogar o jogo; todo movimento deve ocorrer em uma casa vazia;  depois de cada movimento, determine se houve uma derrota ou um empate"
      ],
      "metadata": {
        "id": "3e7wulAKpKwB"
      }
    },
    {
      "cell_type": "code",
      "source": [
        "from enum import Enum\n",
        "\n",
        "# Definindo a enumeração para as possibilidades de ocupação de uma casa na grade\n",
        "class Ocupacao(Enum):\n",
        "    VAZIA = \" \"\n",
        "    JOGADOR_1 = \"X\"\n",
        "    JOGADOR_2 = \"O\"\n",
        "\n",
        "# Definindo a classe JogoDaVelha\n",
        "class JogoDaVelha:\n",
        "    def __init__(self):\n",
        "        # Inicializando a grade 3x3 como vazia\n",
        "        self.__grade = [[Ocupacao.VAZIA for _ in range(3)] for _ in range(3)]\n",
        "        self.jogador_atual = Ocupacao.JOGADOR_1  # Jogador 1 começa\n",
        "\n",
        "    def exibir_grade(self):\n",
        "        # Exibe a grade do jogo, sem o terceiro separador de linhas\n",
        "        for i, linha in enumerate(self.__grade):\n",
        "            print(\"|\".join([casa.value for casa in linha]))\n",
        "            if i < 2:  # Adiciona o separador apenas nas duas primeiras linhas\n",
        "                print(\"-\" * 5)\n",
        "        print(\"\\n\")\n",
        "\n",
        "\n",
        "\n",
        "    def verificar_empate(self):\n",
        "        # Verifica se há empate (nenhuma casa vazia)\n",
        "        for linha in self.__grade:\n",
        "            for casa in linha:\n",
        "                if casa == Ocupacao.VAZIA:\n",
        "                    return False\n",
        "        return True\n",
        "\n",
        "    def verificar_vencedor(self):\n",
        "        # Verifica todas as linhas, colunas e diagonais\n",
        "        for i in range(3):\n",
        "            # Verifica linhas e colunas\n",
        "            if self.__grade[i][0] == self.__grade[i][1] == self.__grade[i][2] != Ocupacao.VAZIA:\n",
        "                return True\n",
        "            if self.__grade[0][i] == self.__grade[1][i] == self.__grade[2][i] != Ocupacao.VAZIA:\n",
        "                return True\n",
        "\n",
        "        # Verifica diagonais\n",
        "        if self.__grade[0][0] == self.__grade[1][1] == self.__grade[2][2] != Ocupacao.VAZIA:\n",
        "            return True\n",
        "        if self.__grade[0][2] == self.__grade[1][1] == self.__grade[2][0] != Ocupacao.VAZIA:\n",
        "            return True\n",
        "\n",
        "        return False\n",
        "\n",
        "    def jogar(self, linha, coluna):\n",
        "        # Verifica se a jogada é válida (casa vazia)\n",
        "        if self.__grade[linha][coluna] != Ocupacao.VAZIA:\n",
        "            print(\"Essa casa já está ocupada! Tente outra.\")\n",
        "            return False\n",
        "\n",
        "        # Realiza a jogada\n",
        "        self.__grade[linha][coluna] = self.jogador_atual\n",
        "\n",
        "        # Verifica se houve vitória\n",
        "        if self.verificar_vencedor():\n",
        "            self.exibir_grade()\n",
        "            print(f\"O {self.jogador_atual.value} venceu!\")\n",
        "            return True\n",
        "\n",
        "        # Verifica se houve empate\n",
        "        if self.verificar_empate():\n",
        "            self.exibir_grade()\n",
        "            print(\"Empate!\")\n",
        "            return True\n",
        "\n",
        "        # Alterna o jogador\n",
        "        self.jogador_atual = Ocupacao.JOGADOR_1 if self.jogador_atual == Ocupacao.JOGADOR_2 else Ocupacao.JOGADOR_2\n",
        "        return False\n",
        "\n",
        "# Programa de teste para jogar o Jogo da Velha\n",
        "jogo = JogoDaVelha()\n",
        "\n",
        "# Simulação de jogadas\n",
        "jogo.exibir_grade()\n",
        "jogo.jogar(0, 0)  # Jogador 1\n",
        "jogo.exibir_grade()\n",
        "jogo.jogar(0, 1)  # Jogador 2\n",
        "jogo.exibir_grade()\n",
        "jogo.jogar(1, 0)  # Jogador 1\n",
        "jogo.exibir_grade()\n",
        "jogo.jogar(1, 1)  # Jogador 2\n",
        "jogo.exibir_grade()\n",
        "jogo.jogar(2, 0)  # Jogador 1 (Vitória do Jogador 1)\n",
        "\n",
        "# Exibindo a implementação e o teste\n",
        "from IPython.display import display, Markdown\n",
        "display(Markdown(\"\"\"\n",
        "### Exemplo de Jogo da Velha\n",
        "\n",
        "Jogadores:\n",
        "- Jogador 1: X\n",
        "- Jogador 2: O\n",
        "\n",
        "Simulação:\n",
        "- Jogador 1 joga na posição (0,0)\n",
        "- Jogador 2 joga na posição (0,1)\n",
        "- Jogador 1 joga na posição (1,0)\n",
        "- Jogador 2 joga na posição (1,1)\n",
        "- Jogador 1 joga na posição (2,0) e vence o jogo.\n",
        "\"\"\"))\n"
      ],
      "metadata": {
        "colab": {
          "base_uri": "https://localhost:8080/",
          "height": 1000
        },
        "id": "7Ip8urwHpLat",
        "outputId": "99a59956-ee5b-4fcd-863c-8be9691e0f61"
      },
      "execution_count": 8,
      "outputs": [
        {
          "output_type": "stream",
          "name": "stdout",
          "text": [
            " | | \n",
            "-----\n",
            " | | \n",
            "-----\n",
            " | | \n",
            "\n",
            "\n",
            "X| | \n",
            "-----\n",
            " | | \n",
            "-----\n",
            " | | \n",
            "\n",
            "\n",
            "X|O| \n",
            "-----\n",
            " | | \n",
            "-----\n",
            " | | \n",
            "\n",
            "\n",
            "X|O| \n",
            "-----\n",
            "X| | \n",
            "-----\n",
            " | | \n",
            "\n",
            "\n",
            "X|O| \n",
            "-----\n",
            "X|O| \n",
            "-----\n",
            " | | \n",
            "\n",
            "\n",
            "X|O| \n",
            "-----\n",
            "X|O| \n",
            "-----\n",
            "X| | \n",
            "\n",
            "\n",
            "O X venceu!\n"
          ]
        },
        {
          "output_type": "display_data",
          "data": {
            "text/plain": [
              "<IPython.core.display.Markdown object>"
            ],
            "text/markdown": "\n### Exemplo de Jogo da Velha\n\nJogadores:\n- Jogador 1: X\n- Jogador 2: O\n\nSimulação:\n- Jogador 1 joga na posição (0,0)\n- Jogador 2 joga na posição (0,1)\n- Jogador 1 joga na posição (1,0)\n- Jogador 2 joga na posição (1,1)\n- Jogador 1 joga na posição (2,0) e vence o jogo.\n"
          },
          "metadata": {}
        }
      ]
    }
  ]
}